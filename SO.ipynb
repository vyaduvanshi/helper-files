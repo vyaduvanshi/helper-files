{
 "cells": [
  {
   "cell_type": "markdown",
   "id": "12362fa0",
   "metadata": {},
   "source": [
    "<span style=\"font-family:Verdana\">This should be font-family Verdana. abcdefghijklmnopqrstuvwxyz</span>\n"
   ]
  },
  {
   "cell_type": "markdown",
   "id": "2737a029",
   "metadata": {},
   "source": [
    "<span>This should be the default font. abcdefghijklmnopqrstuvwxyz</span>"
   ]
  },
  {
   "cell_type": "markdown",
   "id": "faf041de",
   "metadata": {},
   "source": [
    "Yet, both are the same."
   ]
  },
  {
   "cell_type": "markdown",
   "id": "6081737c",
   "metadata": {},
   "source": [
    "---"
   ]
  },
  {
   "cell_type": "markdown",
   "id": "6dd0608c",
   "metadata": {},
   "source": [
    "<span style=\"font-size:12px\">Font size: 12px</span>"
   ]
  },
  {
   "cell_type": "markdown",
   "id": "a1160029",
   "metadata": {},
   "source": [
    "<span style=\"font-size:20px\">Font size 20px</span>"
   ]
  },
  {
   "cell_type": "markdown",
   "id": "76498c3a",
   "metadata": {},
   "source": [
    "<span>Font size default</span>"
   ]
  },
  {
   "cell_type": "markdown",
   "id": "e66b4a44",
   "metadata": {},
   "source": [
    "<br>"
   ]
  },
  {
   "cell_type": "markdown",
   "id": "c322c1a1",
   "metadata": {},
   "source": [
    "This below is clickable to expand. It used to show the collapsible triangle arrow. That is not being displayed anymore as it is also an item of `style`.\n",
    "<br><br>\n",
    "<details style=\"font-family:Verdana;font-size:13px\">\n",
    "    <summary style=\"display:list-item\">Plotly Tutorial</summary>\n",
    "<br>In the graphs below, you can-<br>\n",
    "  1. Click on the <b>Play</b> or <b>Stop</b> buttons to control the animation.<br>\n",
    "  2. Drag the slider manually to control animation.\n",
    "</details>"
   ]
  },
  {
   "cell_type": "code",
   "execution_count": null,
   "id": "2752a7d0",
   "metadata": {},
   "outputs": [],
   "source": []
  }
 ],
 "metadata": {
  "kernelspec": {
   "display_name": "Python 3",
   "language": "python",
   "name": "python3"
  },
  "language_info": {
   "codemirror_mode": {
    "name": "ipython",
    "version": 3
   },
   "file_extension": ".py",
   "mimetype": "text/x-python",
   "name": "python",
   "nbconvert_exporter": "python",
   "pygments_lexer": "ipython3",
   "version": "3.7.3"
  }
 },
 "nbformat": 4,
 "nbformat_minor": 5
}
